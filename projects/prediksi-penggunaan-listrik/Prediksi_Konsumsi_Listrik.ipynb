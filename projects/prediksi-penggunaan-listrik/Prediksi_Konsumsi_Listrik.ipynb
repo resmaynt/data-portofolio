{
  "nbformat": 4,
  "nbformat_minor": 0,
  "metadata": {
    "colab": {
      "provenance": []
    },
    "kernelspec": {
      "name": "python3",
      "display_name": "Python 3"
    },
    "language_info": {
      "name": "python"
    }
  },
  "cells": [
    {
      "cell_type": "markdown",
      "source": [
        "**membangun model prediksi konsumsi listrik harian berbasis data cuaca dan waktu.**"
      ],
      "metadata": {
        "id": "B8Cu4U2DtaVk"
      }
    },
    {
      "cell_type": "markdown",
      "source": [
        "**Langkah 1: Import Library & Load Data**"
      ],
      "metadata": {
        "id": "5AvRGI9stj0B"
      }
    },
    {
      "cell_type": "code",
      "execution_count": null,
      "metadata": {
        "id": "mq5hZgpXrv-6"
      },
      "outputs": [],
      "source": [
        "import pandas as pd\n",
        "import numpy as np\n",
        "import matplotlib.pyplot as plt\n",
        "import seaborn as sns\n",
        "\n",
        "# Modeling\n",
        "from sklearn.model_selection import train_test_split\n",
        "from sklearn.ensemble import RandomForestRegressor\n",
        "from sklearn.metrics import mean_squared_error\n",
        "\n",
        "# Load dataset\n",
        "df_train = pd.read_csv('train.csv')\n",
        "df_test = pd.read_csv('test.csv')\n"
      ]
    },
    {
      "cell_type": "markdown",
      "source": [
        "**Langkah 2: Eksplorasi Data Awal**"
      ],
      "metadata": {
        "id": "AldTFiSHtqLd"
      }
    },
    {
      "cell_type": "code",
      "source": [
        "print(df_train.shape)\n",
        "print(df_train.columns)\n",
        "print(df_train.head())\n",
        "print(df_train.describe())\n",
        "print(df_train.isnull().sum())\n"
      ],
      "metadata": {
        "colab": {
          "base_uri": "https://localhost:8080/"
        },
        "id": "cZLKvKb_sJR9",
        "outputId": "40bc4eb1-e21e-477c-e3ee-6a04ac3e5c8f"
      },
      "execution_count": null,
      "outputs": [
        {
          "output_type": "stream",
          "name": "stdout",
          "text": [
            "(11688, 15)\n",
            "Index(['ID', 'date', 'cluster_id', 'electricity_consumption',\n",
            "       'temperature_2m_max', 'temperature_2m_min', 'apparent_temperature_max',\n",
            "       'apparent_temperature_min', 'sunshine_duration', 'daylight_duration',\n",
            "       'wind_speed_10m_max', 'wind_gusts_10m_max',\n",
            "       'wind_direction_10m_dominant', 'shortwave_radiation_sum',\n",
            "       'et0_fao_evapotranspiration'],\n",
            "      dtype='object')\n",
            "                     ID        date cluster_id  electricity_consumption  \\\n",
            "0  cluster_1_2014-01-01  2014-01-01  cluster_1                  358.032   \n",
            "1  cluster_2_2014-01-01  2014-01-01  cluster_2                  548.247   \n",
            "2  cluster_3_2014-01-01  2014-01-01  cluster_3                  758.303   \n",
            "3  cluster_4_2014-01-01  2014-01-01  cluster_4                 1072.077   \n",
            "4  cluster_1_2014-01-02  2014-01-02  cluster_1                  386.908   \n",
            "\n",
            "   temperature_2m_max  temperature_2m_min  apparent_temperature_max  \\\n",
            "0                10.8                 4.2                       5.5   \n",
            "1                12.2                 4.3                       8.6   \n",
            "2                12.9                -0.8                      10.1   \n",
            "3                10.8                 4.7                       6.7   \n",
            "4                10.7                 7.0                       6.6   \n",
            "\n",
            "   apparent_temperature_min  sunshine_duration  daylight_duration  \\\n",
            "0                       0.4          53.003333       29787.533333   \n",
            "1                      -0.4        8195.656667       30650.350000   \n",
            "2                      -4.9       16305.260000       31547.686667   \n",
            "3                       0.6        9224.803333       30769.220000   \n",
            "4                       3.3       22372.000000       29850.226667   \n",
            "\n",
            "   wind_speed_10m_max  wind_gusts_10m_max  wind_direction_10m_dominant  \\\n",
            "0                40.6                79.2                   186.000000   \n",
            "1                36.0                81.7                   170.591118   \n",
            "2                20.9                44.3                   159.467752   \n",
            "3                34.7                82.8                   184.339753   \n",
            "4                34.3                75.2                   210.333465   \n",
            "\n",
            "   shortwave_radiation_sum  et0_fao_evapotranspiration  \n",
            "0                 1.176667                    0.483333  \n",
            "1                 3.383333                    0.736667  \n",
            "2                 3.880000                    0.716667  \n",
            "3                 3.153333                    0.676667  \n",
            "4                 3.640000                    0.780000  \n",
            "       electricity_consumption  temperature_2m_max  temperature_2m_min  \\\n",
            "count             11688.000000        11688.000000        11688.000000   \n",
            "mean                642.313328           18.733385            7.174786   \n",
            "std                 287.673473            7.504161            5.960263   \n",
            "min                 207.472000           -1.900000          -10.800000   \n",
            "25%                 414.376000           12.800000            2.500000   \n",
            "50%                 602.672000           18.200000            7.100000   \n",
            "75%                 836.034500           24.300000           12.100000   \n",
            "max                1658.348000           40.900000           23.200000   \n",
            "\n",
            "       apparent_temperature_max  apparent_temperature_min  sunshine_duration  \\\n",
            "count              11688.000000              11688.000000       11688.000000   \n",
            "mean                  17.215315                  4.784608       29302.656241   \n",
            "std                    9.085303                  7.260336       13600.113712   \n",
            "min                   -8.100000                -15.400000           0.000000   \n",
            "25%                   10.000000                 -1.100000       19104.170833   \n",
            "50%                   16.400000                  4.400000       29917.360000   \n",
            "75%                   24.000000                 10.800000       40697.756667   \n",
            "max                   42.600000                 23.800000       53498.910000   \n",
            "\n",
            "       daylight_duration  wind_speed_10m_max  wind_gusts_10m_max  \\\n",
            "count       11688.000000        11688.000000        11688.000000   \n",
            "mean        44070.779592           23.273058           46.420115   \n",
            "std          9283.839471            7.993389           15.226372   \n",
            "min         29447.550000            6.800000           13.300000   \n",
            "25%         35150.501667           17.400000           35.300000   \n",
            "50%         44185.056667           22.000000           43.900000   \n",
            "75%         52997.815833           28.000000           54.700000   \n",
            "max         58501.420000           63.900000          126.700000   \n",
            "\n",
            "       wind_direction_10m_dominant  shortwave_radiation_sum  \\\n",
            "count                 11688.000000             11688.000000   \n",
            "mean                    202.335554                12.742257   \n",
            "std                     100.697741                 7.588077   \n",
            "min                       0.002855                 0.333333   \n",
            "25%                     134.384708                 5.600000   \n",
            "50%                     219.000000                12.140000   \n",
            "75%                     281.609519                18.924167   \n",
            "max                     360.000000                29.983333   \n",
            "\n",
            "       et0_fao_evapotranspiration  \n",
            "count                11688.000000  \n",
            "mean                     2.428585  \n",
            "std                      1.607845  \n",
            "min                      0.173333  \n",
            "25%                      0.990000  \n",
            "50%                      2.156667  \n",
            "75%                      3.616667  \n",
            "max                      8.133333  \n",
            "ID                             0\n",
            "date                           0\n",
            "cluster_id                     0\n",
            "electricity_consumption        0\n",
            "temperature_2m_max             0\n",
            "temperature_2m_min             0\n",
            "apparent_temperature_max       0\n",
            "apparent_temperature_min       0\n",
            "sunshine_duration              0\n",
            "daylight_duration              0\n",
            "wind_speed_10m_max             0\n",
            "wind_gusts_10m_max             0\n",
            "wind_direction_10m_dominant    0\n",
            "shortwave_radiation_sum        0\n",
            "et0_fao_evapotranspiration     0\n",
            "dtype: int64\n"
          ]
        }
      ]
    },
    {
      "cell_type": "code",
      "source": [
        "target_col = 'electricity_consumption'\n"
      ],
      "metadata": {
        "id": "Mum2btY9sMyO"
      },
      "execution_count": null,
      "outputs": []
    },
    {
      "cell_type": "markdown",
      "source": [
        "**Langkah 3: Pra-pemrosesan Data**"
      ],
      "metadata": {
        "id": "kaAbFvZpt71L"
      }
    },
    {
      "cell_type": "code",
      "source": [
        "df_train['date'] = pd.to_datetime(df_train['date'])\n",
        "df_test['date'] = pd.to_datetime(df_test['date'])\n",
        "\n",
        "# Encode cluster_id\n",
        "df_train['cluster_id'] = df_train['cluster_id'].astype('category').cat.codes\n",
        "df_test['cluster_id'] = df_test['cluster_id'].astype('category').cat.codes\n"
      ],
      "metadata": {
        "id": "SyzwEhyat6_n"
      },
      "execution_count": null,
      "outputs": []
    },
    {
      "cell_type": "markdown",
      "source": [
        "**Langkah 4: Feature Selection / Engineering**"
      ],
      "metadata": {
        "id": "YGB43OxfuHQy"
      }
    },
    {
      "cell_type": "code",
      "source": [
        "df_train['temp_range'] = df_train['temperature_2m_max'] - df_train['temperature_2m_min']\n",
        "df_test['temp_range'] = df_test['temperature_2m_max'] - df_test['temperature_2m_min']\n"
      ],
      "metadata": {
        "id": "hKNFLFu0uGKn"
      },
      "execution_count": null,
      "outputs": []
    },
    {
      "cell_type": "markdown",
      "source": [
        "**Langkah 5: Split Data untuk Validasi**"
      ],
      "metadata": {
        "id": "hfKrnHsouacB"
      }
    },
    {
      "cell_type": "code",
      "source": [
        "X = df_train.drop(columns=['ID', 'date', 'electricity_consumption'])  # hapus target dan non-fitur\n",
        "y = df_train['electricity_consumption']\n",
        "\n",
        "X_train, X_val, y_train, y_val = train_test_split(X, y, test_size=0.2, random_state=42)\n"
      ],
      "metadata": {
        "id": "WeNBrQmosQ29"
      },
      "execution_count": null,
      "outputs": []
    },
    {
      "cell_type": "markdown",
      "source": [
        "**Langkah 6: Modeling (Baseline)**"
      ],
      "metadata": {
        "id": "ajbclaNGueyi"
      }
    },
    {
      "cell_type": "code",
      "source": [
        "model = RandomForestRegressor(n_estimators=100, random_state=42)\n",
        "model.fit(X_train, y_train)\n",
        "\n",
        "y_pred = model.predict(X_val)\n",
        "mse = mean_squared_error(y_val, y_pred)\n",
        "rmse = np.sqrt(mse)\n",
        "print(\"RMSE:\", rmse)\n"
      ],
      "metadata": {
        "colab": {
          "base_uri": "https://localhost:8080/"
        },
        "id": "pR2xOYdNsUYc",
        "outputId": "4a569e63-2cf1-4e1c-e1cf-c343f3630562"
      },
      "execution_count": null,
      "outputs": [
        {
          "output_type": "stream",
          "name": "stdout",
          "text": [
            "RMSE: 51.115535223252905\n"
          ]
        }
      ]
    },
    {
      "cell_type": "code",
      "source": [
        "df_train['electricity_consumption'].describe()"
      ],
      "metadata": {
        "colab": {
          "base_uri": "https://localhost:8080/",
          "height": 335
        },
        "id": "FUnLbegTuw2a",
        "outputId": "89d2151e-3bc6-4827-e254-62f1e55a8982"
      },
      "execution_count": null,
      "outputs": [
        {
          "output_type": "execute_result",
          "data": {
            "text/plain": [
              "count    11688.000000\n",
              "mean       642.313328\n",
              "std        287.673473\n",
              "min        207.472000\n",
              "25%        414.376000\n",
              "50%        602.672000\n",
              "75%        836.034500\n",
              "max       1658.348000\n",
              "Name: electricity_consumption, dtype: float64"
            ],
            "text/html": [
              "<div>\n",
              "<style scoped>\n",
              "    .dataframe tbody tr th:only-of-type {\n",
              "        vertical-align: middle;\n",
              "    }\n",
              "\n",
              "    .dataframe tbody tr th {\n",
              "        vertical-align: top;\n",
              "    }\n",
              "\n",
              "    .dataframe thead th {\n",
              "        text-align: right;\n",
              "    }\n",
              "</style>\n",
              "<table border=\"1\" class=\"dataframe\">\n",
              "  <thead>\n",
              "    <tr style=\"text-align: right;\">\n",
              "      <th></th>\n",
              "      <th>electricity_consumption</th>\n",
              "    </tr>\n",
              "  </thead>\n",
              "  <tbody>\n",
              "    <tr>\n",
              "      <th>count</th>\n",
              "      <td>11688.000000</td>\n",
              "    </tr>\n",
              "    <tr>\n",
              "      <th>mean</th>\n",
              "      <td>642.313328</td>\n",
              "    </tr>\n",
              "    <tr>\n",
              "      <th>std</th>\n",
              "      <td>287.673473</td>\n",
              "    </tr>\n",
              "    <tr>\n",
              "      <th>min</th>\n",
              "      <td>207.472000</td>\n",
              "    </tr>\n",
              "    <tr>\n",
              "      <th>25%</th>\n",
              "      <td>414.376000</td>\n",
              "    </tr>\n",
              "    <tr>\n",
              "      <th>50%</th>\n",
              "      <td>602.672000</td>\n",
              "    </tr>\n",
              "    <tr>\n",
              "      <th>75%</th>\n",
              "      <td>836.034500</td>\n",
              "    </tr>\n",
              "    <tr>\n",
              "      <th>max</th>\n",
              "      <td>1658.348000</td>\n",
              "    </tr>\n",
              "  </tbody>\n",
              "</table>\n",
              "</div><br><label><b>dtype:</b> float64</label>"
            ]
          },
          "metadata": {},
          "execution_count": 23
        }
      ]
    },
    {
      "cell_type": "code",
      "source": [
        "# Rentang suhu dan suhu nyata\n",
        "df_train['temp_range'] = df_train['temperature_2m_max'] - df_train['temperature_2m_min']\n",
        "df_test['temp_range'] = df_test['temperature_2m_max'] - df_test['temperature_2m_min']\n",
        "\n",
        "df_train['apparent_range'] = df_train['apparent_temperature_max'] - df_train['apparent_temperature_min']\n",
        "df_test['apparent_range'] = df_test['apparent_temperature_max'] - df_test['apparent_temperature_min']\n",
        "\n",
        "# Perbandingan durasi sinar matahari terhadap siang hari\n",
        "df_train['sun_ratio'] = df_train['sunshine_duration'] / (df_train['daylight_duration'] + 1e-6)\n",
        "df_test['sun_ratio'] = df_test['sunshine_duration'] / (df_test['daylight_duration'] + 1e-6)\n",
        "\n",
        "# Hari keberapa dalam tahun\n",
        "df_train['day_of_year'] = df_train['date'].dt.dayofyear\n",
        "df_test['day_of_year'] = df_test['date'].dt.dayofyear\n"
      ],
      "metadata": {
        "id": "2BA4uc4bsXNH"
      },
      "execution_count": null,
      "outputs": []
    },
    {
      "cell_type": "code",
      "source": [
        "# Tentukan fitur yang akan digunakan untuk pelatihan model\n",
        "# Hapus kolom non-fitur seperti ID, date, dan target\n",
        "feature_cols = df_train.columns.difference(['ID', 'date', 'electricity_consumption'])  # pastikan nama target benar\n",
        "\n",
        "X = df_train[feature_cols]\n",
        "y = df_train['electricity_consumption']\n",
        "\n",
        "X_test = df_test[feature_cols]\n"
      ],
      "metadata": {
        "id": "KS9Ml7ravEBX"
      },
      "execution_count": null,
      "outputs": []
    },
    {
      "cell_type": "code",
      "source": [
        "from sklearn.model_selection import train_test_split\n",
        "\n",
        "X_train, X_val, y_train, y_val = train_test_split(X, y, test_size=0.2, random_state=42)\n"
      ],
      "metadata": {
        "id": "p5nCAxpDv1zZ"
      },
      "execution_count": null,
      "outputs": []
    },
    {
      "cell_type": "code",
      "source": [
        "from xgboost import XGBRegressor\n",
        "from sklearn.metrics import mean_squared_error\n",
        "import numpy as np\n",
        "\n",
        "xgb = XGBRegressor(n_estimators=200, learning_rate=0.05, random_state=42)\n",
        "xgb.fit(X_train, y_train)\n",
        "\n",
        "y_pred_xgb = xgb.predict(X_val)\n",
        "rmse_xgb = np.sqrt(mean_squared_error(y_val, y_pred_xgb))\n",
        "print(\"RMSE (XGBoost + FE):\", rmse_xgb)\n"
      ],
      "metadata": {
        "colab": {
          "base_uri": "https://localhost:8080/"
        },
        "id": "8WJsbmTvv36V",
        "outputId": "869be6b0-a61d-4a61-818f-a2d8ae0dc62d"
      },
      "execution_count": null,
      "outputs": [
        {
          "output_type": "stream",
          "name": "stdout",
          "text": [
            "RMSE (XGBoost + FE): 47.831846009599154\n"
          ]
        }
      ]
    },
    {
      "cell_type": "code",
      "source": [
        "import matplotlib.pyplot as plt\n",
        "\n",
        "importances = xgb.feature_importances_\n",
        "indices = np.argsort(importances)[::-1]\n",
        "features = X_train.columns[indices]\n",
        "\n",
        "plt.figure(figsize=(10,6))\n",
        "plt.title(\"Feature Importance\")\n",
        "plt.bar(range(len(importances)), importances[indices])\n",
        "plt.xticks(range(len(importances)), features, rotation=90)\n",
        "plt.tight_layout()\n",
        "plt.show()\n"
      ],
      "metadata": {
        "colab": {
          "base_uri": "https://localhost:8080/",
          "height": 607
        },
        "id": "kABs2SAov7g0",
        "outputId": "6bca03c3-73a3-41bb-982c-de3aba1995ab"
      },
      "execution_count": null,
      "outputs": [
        {
          "output_type": "display_data",
          "data": {
            "text/plain": [
              "<Figure size 1000x600 with 1 Axes>"
            ],
            "image/png": "[encoded data removed]"
          },
          "metadata": {}
        }
      ]
    },
    {
      "cell_type": "code",
      "source": [
        "from sklearn.model_selection import RandomizedSearchCV\n",
        "from xgboost import XGBRegressor\n",
        "\n",
        "param_dist = {\n",
        "    'n_estimators': [100, 200, 300],\n",
        "    'learning_rate': [0.01, 0.05, 0.1],\n",
        "    'max_depth': [3, 5, 7],\n",
        "    'subsample': [0.6, 0.8, 1.0],\n",
        "    'colsample_bytree': [0.6, 0.8, 1.0]\n",
        "}\n",
        "\n",
        "xgb_model = XGBRegressor(random_state=42)\n",
        "\n",
        "random_search = RandomizedSearchCV(\n",
        "    estimator=xgb_model,\n",
        "    param_distributions=param_dist,\n",
        "    n_iter=20,\n",
        "    scoring='neg_root_mean_squared_error',\n",
        "    cv=3,\n",
        "    verbose=1,\n",
        "    n_jobs=-1,\n",
        "    random_state=42\n",
        ")\n",
        "\n",
        "random_search.fit(X_train, y_train)\n",
        "\n",
        "print(\"Best Parameters:\", random_search.best_params_)\n"
      ],
      "metadata": {
        "colab": {
          "base_uri": "https://localhost:8080/"
        },
        "id": "wg6rdqimwNvU",
        "outputId": "d4c71de1-1b91-47af-cbcd-63d4b2b07e0a"
      },
      "execution_count": null,
      "outputs": [
        {
          "output_type": "stream",
          "name": "stdout",
          "text": [
            "Fitting 3 folds for each of 20 candidates, totalling 60 fits\n",
            "Best Parameters: {'subsample': 0.8, 'n_estimators': 300, 'max_depth': 5, 'learning_rate': 0.1, 'colsample_bytree': 1.0}\n"
          ]
        }
      ]
    },
    {
      "cell_type": "code",
      "source": [
        "from sklearn.metrics import mean_squared_error\n",
        "import numpy as np\n",
        "\n",
        "best_model = random_search.best_estimator_\n",
        "\n",
        "y_pred_best = best_model.predict(X_val)\n",
        "rmse_best = np.sqrt(mean_squared_error(y_val, y_pred_best))\n",
        "print(\"RMSE (XGBoost Tuned):\", rmse_best)\n"
      ],
      "metadata": {
        "colab": {
          "base_uri": "https://localhost:8080/"
        },
        "id": "04pSXq10w0M1",
        "outputId": "b6bdf244-b77f-424b-a128-b70fd7ab0cf1"
      },
      "execution_count": null,
      "outputs": [
        {
          "output_type": "stream",
          "name": "stdout",
          "text": [
            "RMSE (XGBoost Tuned): 47.58421930308592\n"
          ]
        }
      ]
    },
    {
      "cell_type": "code",
      "source": [
        "print(\"Perbedaan fitur antara X_train dan X_test:\")\n",
        "print(set(X_train.columns) - set(X_test.columns))\n"
      ],
      "metadata": {
        "colab": {
          "base_uri": "https://localhost:8080/"
        },
        "id": "v7vIOaVF0Olk",
        "outputId": "11d2966e-3bc4-4a70-cd06-b6d618f4e74f"
      },
      "execution_count": null,
      "outputs": [
        {
          "output_type": "stream",
          "name": "stdout",
          "text": [
            "Perbedaan fitur antara X_train dan X_test:\n",
            "set()\n"
          ]
        }
      ]
    },
    {
      "cell_type": "code",
      "source": [
        "print(submission['electricity_consumption'].describe())\n"
      ],
      "metadata": {
        "colab": {
          "base_uri": "https://localhost:8080/"
        },
        "id": "CYf-f7Kt0cd9",
        "outputId": "d86c733f-562b-41f1-d236-ae0ff9058f3c"
      },
      "execution_count": null,
      "outputs": [
        {
          "output_type": "stream",
          "name": "stdout",
          "text": [
            "count    3400.000000\n",
            "mean      650.120605\n",
            "std       286.853821\n",
            "min       233.842804\n",
            "25%       418.896408\n",
            "50%       605.468689\n",
            "75%       844.314499\n",
            "max      1545.961182\n",
            "Name: electricity_consumption, dtype: float64\n"
          ]
        }
      ]
    },
    {
      "cell_type": "code",
      "source": [
        "# Pastikan kolom 'date' sudah dalam format datetime\n",
        "df_train['date'] = pd.to_datetime(df_train['date'])\n",
        "df_test['date'] = pd.to_datetime(df_test['date'])\n",
        "\n",
        "# Ekstrak komponen waktu\n",
        "df_train['month'] = df_train['date'].dt.month\n",
        "df_test['month'] = df_test['date'].dt.month\n",
        "\n",
        "df_train['is_peak_month'] = df_train['month'].isin([6, 7, 8]).astype(int)\n",
        "df_test['is_peak_month'] = df_test['month'].isin([6, 7, 8]).astype(int)\n",
        "\n",
        "df_train['dayofweek'] = df_train['date'].dt.dayofweek  # 0 = Senin, 6 = Minggu\n",
        "df_test['dayofweek'] = df_test['date'].dt.dayofweek\n",
        "\n",
        "# Weekend flag\n",
        "df_train['is_weekend'] = df_train['dayofweek'].isin([5, 6]).astype(int)\n",
        "df_test['is_weekend'] = df_test['dayofweek'].isin([5, 6]).astype(int)\n"
      ],
      "metadata": {
        "id": "Qmab4aBS00dO"
      },
      "execution_count": null,
      "outputs": []
    },
    {
      "cell_type": "code",
      "source": [
        "df_train['wind_temp_interaction'] = df_train['wind_speed_10m_max'] * df_train['temperature_2m_max']\n",
        "df_test['wind_temp_interaction'] = df_test['wind_speed_10m_max'] * df_test['temperature_2m_max']\n"
      ],
      "metadata": {
        "id": "ic3_sO221Niv"
      },
      "execution_count": null,
      "outputs": []
    },
    {
      "cell_type": "code",
      "source": [
        "# Pastikan target tidak ikut masuk ke fitur\n",
        "feature_cols = df_train.columns.difference(['ID', 'date', 'electricity_consumption'])\n",
        "\n",
        "X = df_train[feature_cols]\n",
        "y = df_train['electricity_consumption']\n",
        "X_test = df_test[feature_cols]\n"
      ],
      "metadata": {
        "id": "1Ic_ly9M1Poz"
      },
      "execution_count": null,
      "outputs": []
    },
    {
      "cell_type": "code",
      "source": [
        "from sklearn.model_selection import train_test_split\n",
        "\n",
        "X_train, X_val, y_train, y_val = train_test_split(\n",
        "    X, y, test_size=0.2, random_state=42\n",
        ")\n"
      ],
      "metadata": {
        "id": "yF_JPaE81SNf"
      },
      "execution_count": null,
      "outputs": []
    },
    {
      "cell_type": "code",
      "source": [
        "from xgboost import XGBRegressor\n",
        "from sklearn.metrics import mean_squared_error\n",
        "import numpy as np\n",
        "\n",
        "model = XGBRegressor(\n",
        "    n_estimators=300,\n",
        "    learning_rate=0.1,\n",
        "    max_depth=5,\n",
        "    subsample=0.8,\n",
        "    colsample_bytree=1.0,\n",
        "    random_state=42\n",
        ")\n",
        "\n",
        "model.fit(X_train, y_train)\n",
        "\n",
        "# Prediksi di data validasi\n",
        "y_pred = model.predict(X_val)\n",
        "rmse = np.sqrt(mean_squared_error(y_val, y_pred))\n",
        "\n",
        "print(\"📉 RMSE after adding seasonal & interaction features:\", rmse)\n"
      ],
      "metadata": {
        "colab": {
          "base_uri": "https://localhost:8080/"
        },
        "id": "TY-6joo21UuC",
        "outputId": "91cf85b5-b5ac-44b6-87c1-b447096d609c"
      },
      "execution_count": null,
      "outputs": [
        {
          "output_type": "stream",
          "name": "stdout",
          "text": [
            "📉 RMSE after adding seasonal & interaction features: 28.443640413351847\n"
          ]
        }
      ]
    },
    {
      "cell_type": "code",
      "source": [
        "test_pred = model.predict(X_test)\n",
        "\n",
        "submission_v2 = pd.DataFrame({\n",
        "    'ID': df_test['ID'],\n",
        "    'electricity_consumption': test_pred\n",
        "})\n",
        "\n",
        "submission_v2.to_csv('submission_v2.csv', index=False)\n",
        "print(\" File 'submission_v2.csv' berhasil disimpan!\")\n"
      ],
      "metadata": {
        "id": "oRjbQkAKxELN",
        "outputId": "8ce4cb49-2b88-41e7-f49b-e1bb1a41b310",
        "colab": {
          "base_uri": "https://localhost:8080/"
        }
      },
      "execution_count": null,
      "outputs": [
        {
          "output_type": "stream",
          "name": "stdout",
          "text": [
            " File 'submission_v2.csv' berhasil disimpan!\n"
          ]
        }
      ]
    },
    {
      "cell_type": "code",
      "source": [
        "# Tambah awal bulan\n",
        "df_train['is_month_start'] = (df_train['date'].dt.day <= 3).astype(int)\n",
        "df_test['is_month_start'] = (df_test['date'].dt.day <= 3).astype(int)\n",
        "\n",
        "# Tambah radiasi per jam (intensitas cahaya matahari)\n",
        "df_train['radiation_per_hour'] = df_train['shortwave_radiation_sum'] / ((df_train['daylight_duration'] / 3600) + 1e-6)\n",
        "df_test['radiation_per_hour'] = df_test['shortwave_radiation_sum'] / ((df_test['daylight_duration'] / 3600) + 1e-6)\n",
        "\n",
        "# Tambah interaksi radiasi & suhu\n",
        "df_train['temp_radiation'] = df_train['temperature_2m_max'] * df_train['shortwave_radiation_sum']\n",
        "df_test['temp_radiation'] = df_test['temperature_2m_max'] * df_test['shortwave_radiation_sum']"
      ],
      "metadata": {
        "id": "Ow5vyAjX1AON"
      },
      "execution_count": null,
      "outputs": []
    },
    {
      "cell_type": "code",
      "source": [
        "from sklearn.model_selection import train_test_split\n",
        "\n",
        "feature_cols = df_train.columns.difference(['ID', 'date', 'electricity_consumption'])\n",
        "\n",
        "X = df_train[feature_cols]\n",
        "y = df_train['electricity_consumption']\n",
        "X_test = df_test[feature_cols]\n",
        "\n",
        "X_train, X_val, y_train, y_val = train_test_split(X, y, test_size=0.2, random_state=42)\n"
      ],
      "metadata": {
        "id": "kw5BnKIT3Dk4"
      },
      "execution_count": null,
      "outputs": []
    },
    {
      "cell_type": "code",
      "source": [
        "from xgboost import XGBRegressor\n",
        "from sklearn.ensemble import RandomForestRegressor\n",
        "from sklearn.metrics import mean_squared_error\n",
        "import numpy as np\n",
        "\n",
        "# Model 1: XGBoost\n",
        "xgb_model = XGBRegressor(\n",
        "    n_estimators=300,\n",
        "    learning_rate=0.1,\n",
        "    max_depth=5,\n",
        "    subsample=0.8,\n",
        "    colsample_bytree=1.0,\n",
        "    random_state=42\n",
        ")\n",
        "xgb_model.fit(X_train, y_train)\n",
        "xgb_val_pred = xgb_model.predict(X_val)\n",
        "\n",
        "# Model 2: Random Forest\n",
        "rf_model = RandomForestRegressor(n_estimators=200, random_state=42)\n",
        "rf_model.fit(X_train, y_train)\n",
        "rf_val_pred = rf_model.predict(X_val)\n",
        "\n",
        "# Ensemble\n",
        "val_pred_ensemble = 0.6 * xgb_val_pred + 0.4 * rf_val_pred\n",
        "rmse_ensemble = np.sqrt(mean_squared_error(y_val, val_pred_ensemble))\n",
        "print(\"📉 RMSE (Ensemble - val):\", rmse_ensemble)\n"
      ],
      "metadata": {
        "colab": {
          "base_uri": "https://localhost:8080/"
        },
        "id": "GQ_qZPjX3FtN",
        "outputId": "3212e5ad-fded-44fd-b301-7bbecbe8de4f"
      },
      "execution_count": null,
      "outputs": [
        {
          "output_type": "stream",
          "name": "stdout",
          "text": [
            "📉 RMSE (Ensemble - val): 28.860649357379494\n"
          ]
        }
      ]
    },
    {
      "cell_type": "code",
      "source": [
        "xgb_test_pred = xgb_model.predict(X_test)\n",
        "rf_test_pred = rf_model.predict(X_test)\n",
        "test_pred_ensemble = 0.6 * xgb_test_pred + 0.4 * rf_test_pred\n",
        "\n",
        "# Clipping ke rentang konsumsi di data training\n",
        "test_pred_ensemble = np.clip(test_pred_ensemble, 250, 1650)\n",
        "\n",
        "submission = pd.DataFrame({\n",
        "    'ID': df_test['ID'],\n",
        "    'electricity_consumption': test_pred_ensemble\n",
        "})\n",
        "submission.to_csv('submission_ensemble_v3.csv', index=False)\n",
        "print(\"File submission_ensemble_v3.csv berhasil dibuat!\")\n"
      ],
      "metadata": {
        "colab": {
          "base_uri": "https://localhost:8080/"
        },
        "id": "58ExmVJb3VSb",
        "outputId": "51e78731-790b-42fa-fadc-43af1c3ddc86"
      },
      "execution_count": null,
      "outputs": [
        {
          "output_type": "stream",
          "name": "stdout",
          "text": [
            "File submission_ensemble_v3.csv berhasil dibuat!\n"
          ]
        }
      ]
    },
    {
      "cell_type": "code",
      "source": [
        "# Loop per cluster\n",
        "for cluster in df_train['cluster_id'].unique():\n",
        "    train_cluster = df_train[df_train['cluster_id'] == cluster]\n",
        "    test_cluster = df_test[df_test['cluster_id'] == cluster]\n",
        "\n",
        "    # Train & predict seperti biasa per cluster...\n"
      ],
      "metadata": {
        "id": "PpkCNkrK4EEJ"
      },
      "execution_count": null,
      "outputs": []
    },
    {
      "cell_type": "code",
      "source": [
        "df_train = df_train.sort_values(['cluster_id', 'date'])\n",
        "df_train['temp_avg_3'] = df_train.groupby('cluster_id')['temperature_2m_max'].transform(lambda x: x.rolling(3, min_periods=1).mean())\n",
        "# Lakukan juga ke df_test (pakai concat jika perlu)\n"
      ],
      "metadata": {
        "id": "e2FVR18e4Gt_"
      },
      "execution_count": null,
      "outputs": []
    },
    {
      "cell_type": "code",
      "source": [
        "# Gabung dulu\n",
        "df_all = pd.concat([df_train, df_test], axis=0)\n",
        "df_all = df_all.sort_values(['cluster_id', 'date'])\n",
        "\n",
        "# Rolling feature suhu rata-rata 3 hari\n",
        "df_all['temp_avg_3'] = df_all.groupby('cluster_id')['temperature_2m_max'].transform(\n",
        "    lambda x: x.rolling(window=3, min_periods=1).mean()\n",
        ")\n",
        "\n",
        "# Pisahkan kembali\n",
        "df_train = df_all[df_all['electricity_consumption'].notnull()].copy()\n",
        "df_test = df_all[df_all['electricity_consumption'].isnull()].copy()\n"
      ],
      "metadata": {
        "id": "hJd0nxO-4QkW"
      },
      "execution_count": null,
      "outputs": []
    },
    {
      "cell_type": "code",
      "source": [
        "# Rata-rata kelembapan (kalau ada) atau radiasi\n",
        "df_all['radiation_avg_3'] = df_all.groupby('cluster_id')['shortwave_radiation_sum'].transform(\n",
        "    lambda x: x.rolling(3, min_periods=1).mean()\n",
        ")\n",
        "\n",
        "# Rolling suhu minimum atau apparent temp juga bisa\n",
        "df_all['apparent_temp_avg_3'] = df_all.groupby('cluster_id')['apparent_temperature_max'].transform(\n",
        "    lambda x: x.rolling(3, min_periods=1).mean()\n",
        ")\n"
      ],
      "metadata": {
        "id": "PJM5gz9_4T5e"
      },
      "execution_count": null,
      "outputs": []
    },
    {
      "cell_type": "code",
      "source": [
        "feature_cols = df_train.columns.difference(['ID', 'date', 'electricity_consumption'])\n",
        "\n",
        "X = df_train[feature_cols]\n",
        "y = df_train['electricity_consumption']\n",
        "X_test = df_test[feature_cols]\n",
        "\n",
        "from sklearn.model_selection import train_test_split\n",
        "X_train, X_val, y_train, y_val = train_test_split(X, y, test_size=0.2, random_state=42)\n",
        "\n",
        "# Train model\n",
        "model = XGBRegressor(\n",
        "    n_estimators=300,\n",
        "    learning_rate=0.1,\n",
        "    max_depth=5,\n",
        "    subsample=0.8,\n",
        "    colsample_bytree=1.0,\n",
        "    random_state=42\n",
        ")\n",
        "model.fit(X_train, y_train)\n",
        "y_pred = model.predict(X_val)\n",
        "\n",
        "from sklearn.metrics import mean_squared_error\n",
        "import numpy as np\n",
        "\n",
        "mse = mean_squared_error(y_val, y_pred)\n",
        "rmse = np.sqrt(mse)\n",
        "print(\"📉 RMSE after rolling feature:\", rmse)\n",
        "\n"
      ],
      "metadata": {
        "colab": {
          "base_uri": "https://localhost:8080/"
        },
        "id": "3Scjs-tD4WNO",
        "outputId": "1c10487b-9dae-4f20-b27a-e93245dfbafb"
      },
      "execution_count": null,
      "outputs": [
        {
          "output_type": "stream",
          "name": "stdout",
          "text": [
            "📉 RMSE after rolling feature: 26.609937934542277\n"
          ]
        }
      ]
    },
    {
      "cell_type": "code",
      "source": [
        "test_pred = model.predict(X_test)\n",
        "\n",
        "# Clipping agar tetap dalam rentang realistis seperti data training\n",
        "test_pred = np.clip(test_pred, 250, 1650)\n",
        "\n",
        "submission = pd.DataFrame({\n",
        "    'ID': df_test['ID'],\n",
        "    'electricity_consumption': test_pred\n",
        "})\n",
        "submission.to_csv('submission_rolling_v4.csv', index=False)\n",
        "\n",
        "print(\"✅ Submission 'submission_rolling_v4.csv' berhasil dibuat!\")\n",
        "\n"
      ],
      "metadata": {
        "colab": {
          "base_uri": "https://localhost:8080/"
        },
        "id": "4iLePWJK4qsH",
        "outputId": "aef68729-7d54-47ec-9068-b0b14f51a1c9"
      },
      "execution_count": null,
      "outputs": [
        {
          "output_type": "stream",
          "name": "stdout",
          "text": [
            "✅ Submission 'submission_rolling_v4.csv' berhasil dibuat!\n"
          ]
        }
      ]
    }
  ]
}